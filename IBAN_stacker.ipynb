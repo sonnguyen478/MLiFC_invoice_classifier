{
 "cells": [
  {
   "cell_type": "markdown",
   "metadata": {},
   "source": [
    "# IBAN stacker\n",
    "This model is my first attempt to build a stacker to decide how/what/which IBAN is the true IBAN.\n"
   ]
  },
  {
   "cell_type": "code",
   "execution_count": 1,
   "metadata": {
    "colab": {
     "autoexec": {
      "startup": false,
      "wait_interval": 0
     }
    },
    "colab_type": "code",
    "id": "B5nyjD3ZJAQd"
   },
   "outputs": [
    {
     "name": "stderr",
     "output_type": "stream",
     "text": [
      "/home/paperspace/anaconda3/envs/bletchley/lib/python3.6/site-packages/h5py/__init__.py:36: FutureWarning: Conversion of the second argument of issubdtype from `float` to `np.floating` is deprecated. In future, it will be treated as `np.float64 == np.dtype(float).type`.\n",
      "  from ._conv import register_converters as _register_converters\n",
      "Using TensorFlow backend.\n"
     ]
    }
   ],
   "source": [
    "import ortec\n",
    "import glob\n",
    "import numpy as np\n",
    "import pandas as pd\n",
    "import keras\n",
    "\n",
    "from keras.preprocessing.text import Tokenizer\n"
   ]
  },
  {
   "cell_type": "code",
   "execution_count": 2,
   "metadata": {},
   "outputs": [],
   "source": [
    "def pad(s, length=32):\n",
    "    l = len(s)\n",
    "    if l < length:\n",
    "        o = s + ' ' * (max(0, (length-l)))\n",
    "    elif l == length:\n",
    "        o = s\n",
    "    else:\n",
    "        o = s[:length]\n",
    "    return o\n",
    "\n",
    "def apad(ss, length=32):\n",
    "    \"\"\"pad strings in list ss to required length\n",
    "    set length to zero in order to pad to longest string found in s\"\"\"\n",
    "    if length == 0:\n",
    "        for s in ss:\n",
    "            length = max(len(s), length)\n",
    "    #\n",
    "    print(\"padding strings to max length of {}\".format(length))\n",
    "    \n",
    "    a = []\n",
    "    for s in ss:\n",
    "        l = len(s)\n",
    "\n",
    "        if l < length:\n",
    "            o = s + ' ' * (max(0, (length-l)))\n",
    "        elif l == length:\n",
    "            o = s\n",
    "        else:\n",
    "            o = s[:length]\n",
    "        a.append(o)\n",
    "        \n",
    "#         p = ' ' * (max(0, (length-l)))\n",
    "#         a.append(s + p)\n",
    "    return a\n",
    "#\n"
   ]
  },
  {
   "cell_type": "code",
   "execution_count": 3,
   "metadata": {},
   "outputs": [
    {
     "name": "stdout",
     "output_type": "stream",
     "text": [
      "padding strings to max length of 6\n",
      "abcd _abcd  _\n",
      "1234567 _123456_\n"
     ]
    }
   ],
   "source": [
    "xx =  [\"abcd\", \"1234567\"]\n",
    "pp = apad(xx, length=6)\n",
    "for x, p in zip(xx, pp):\n",
    "    print(x, \"_\" +  p + \"_\") \n",
    "#"
   ]
  },
  {
   "cell_type": "markdown",
   "metadata": {},
   "source": [
    "# load predictions and truth from disk\n",
    "For now we load \"fake truths\" and \"fake predictions\" from generated data. Only IBANs in those, for now.\n",
    "\n"
   ]
  },
  {
   "cell_type": "code",
   "execution_count": 4,
   "metadata": {},
   "outputs": [
    {
     "name": "stdout",
     "output_type": "stream",
     "text": [
      "total 17880\r\n",
      "-rw-rw-r-- 1 paperspace paperspace 3669791 Mar 16 14:47 iban_predicted_GX1_47k.csv\r\n",
      "-rw-rw-r-- 1 paperspace paperspace 3858155 Mar 16 14:47 iban_predicted_GX2_47k.csv\r\n",
      "-rw-rw-r-- 1 paperspace paperspace 3393175 Mar 16 14:47 iban_predicted_GX3_47k.csv\r\n",
      "-rw-rw-r-- 1 paperspace paperspace 3808344 Mar 16 14:47 iban_predicted_GX4_47k.csv\r\n",
      "-rw-rw-r-- 1 paperspace paperspace 3572045 Mar 16 14:47 iban_truth_GY_47k.csv\r\n"
     ]
    }
   ],
   "source": [
    "train_dir = \"./train_G_iban/\"\n",
    "! ls -l {train_dir}"
   ]
  },
  {
   "cell_type": "code",
   "execution_count": 5,
   "metadata": {},
   "outputs": [],
   "source": [
    "# filenames_all = glob.glob(train_dir + \"iban_predicted*.csv\")\n",
    "# print(\"{} files found in directory\".format(len(filenames_all)))\n",
    "\n",
    "# batch_size = 32\n"
   ]
  },
  {
   "cell_type": "code",
   "execution_count": 6,
   "metadata": {
    "scrolled": true
   },
   "outputs": [
    {
     "name": "stdout",
     "output_type": "stream",
     "text": [
      "uuid,x_name,x_kvk,x_iban,x_reference,x_total\r\n",
      "a6ec0d75-f2d3-4965-b626-fca8fe70c286,NaN,NaN,XNL80 CObA 0969 0F380Z 5,NaN,NaN\r\n",
      "9ababcab-b944-4c15-a192-a57ee63a5ebd,NaN,NaN,NL32 BcITP 8598 142O 38H,NaN,NaN\r\n",
      "eb0715a4-d68f-4ac4-a6ab-429afb27cb24,NaN,NaN,NL470DNIB 3QI721 8240 06,NaN,NaN\r\n",
      "d71c3ace-7083-4c31-a52e-d4ae0afba8f7,NaN,NaN,NLI4 RB4R 81j08 2396 61A,NaN,NaN\r\n",
      "1e310847-f7e4-40f8-9d58-2441fc585902,NaN,NaN,NML19 BOFLAa 7381591 180,NaN,NaN\r\n",
      "bf1593f4-b140-4d6c-8ee4-de560f41ba07,NaN,NaN,NL41 LOdJP 974382 099 45,NaN,NaN\r\n",
      "257fe217-f13a-4787-9263-3a83a3269a91,NaN,NaN,nL131Q EBTUR661 1802 F76,NaN,NaN\r\n",
      "ef1de86f-0446-455a-9f84-3d15e39a0fd6,NaN,NaN,NLT07 LOD K1762G 835141J,NaN,NaN\r\n",
      "2ad4bf2b-080f-4b4f-bbe5-48eb64a384fd,NaN,NaN,JTNL43 cIC4 5033 715 538,NaN,NaN\r\n"
     ]
    }
   ],
   "source": [
    "! head {train_dir}/iban_predicted_GX1_47k.csv"
   ]
  },
  {
   "cell_type": "code",
   "execution_count": 7,
   "metadata": {
    "scrolled": true
   },
   "outputs": [
    {
     "name": "stdout",
     "output_type": "stream",
     "text": [
      "Variable    Type        Data/Info\n",
      "---------------------------------\n",
      "Tokenizer   type        <class 'keras.preprocessing.text.Tokenizer'>\n",
      "apad        function    <function apad at 0x7fe73c916f28>\n",
      "glob        module      <module 'glob' from '/hom<...>y/lib/python3.6/glob.py'>\n",
      "keras       module      <module 'keras' from '/ho<...>kages/keras/__init__.py'>\n",
      "np          module      <module 'numpy' from '/ho<...>kages/numpy/__init__.py'>\n",
      "ortec       module      <module 'ortec' from '/ho<...>ice_classifier/ortec.py'>\n",
      "p           str         123456\n",
      "pad         function    <function pad at 0x7fe7a41ff9d8>\n",
      "pd          module      <module 'pandas' from '/h<...>ages/pandas/__init__.py'>\n",
      "pp          list        n=2\n",
      "train_dir   str         ./train_G_iban/\n",
      "x           str         1234567\n",
      "xx          list        n=2\n"
     ]
    }
   ],
   "source": [
    "%whos\n"
   ]
  },
  {
   "cell_type": "code",
   "execution_count": 8,
   "metadata": {},
   "outputs": [],
   "source": [
    "preds_GX1 = pd.read_csv(train_dir + \"iban_predicted_GX1_47k.csv\")\n",
    "preds_GX2 = pd.read_csv(train_dir + \"iban_predicted_GX2_47k.csv\")\n",
    "preds_GX3 = pd.read_csv(train_dir + \"iban_predicted_GX3_47k.csv\")\n",
    "preds_GX4 = pd.read_csv(train_dir + \"iban_predicted_GX4_47k.csv\")\n",
    "\n",
    "truths_GY = pd.read_csv(train_dir + \"iban_truth_GY_47k.csv\")\n"
   ]
  },
  {
   "cell_type": "code",
   "execution_count": 9,
   "metadata": {},
   "outputs": [
    {
     "data": {
      "text/html": [
       "<div>\n",
       "<style scoped>\n",
       "    .dataframe tbody tr th:only-of-type {\n",
       "        vertical-align: middle;\n",
       "    }\n",
       "\n",
       "    .dataframe tbody tr th {\n",
       "        vertical-align: top;\n",
       "    }\n",
       "\n",
       "    .dataframe thead th {\n",
       "        text-align: right;\n",
       "    }\n",
       "</style>\n",
       "<table border=\"1\" class=\"dataframe\">\n",
       "  <thead>\n",
       "    <tr style=\"text-align: right;\">\n",
       "      <th></th>\n",
       "      <th>uuid</th>\n",
       "      <th>y_name</th>\n",
       "      <th>y_kvk</th>\n",
       "      <th>y_iban</th>\n",
       "      <th>y_reference</th>\n",
       "      <th>y_total</th>\n",
       "    </tr>\n",
       "  </thead>\n",
       "  <tbody>\n",
       "    <tr>\n",
       "      <th>0</th>\n",
       "      <td>a6ec0d75-f2d3-4965-b626-fca8fe70c286</td>\n",
       "      <td>NaN</td>\n",
       "      <td>NaN</td>\n",
       "      <td>NL80 COBA 0969 0380 25</td>\n",
       "      <td>NaN</td>\n",
       "      <td>NaN</td>\n",
       "    </tr>\n",
       "    <tr>\n",
       "      <th>1</th>\n",
       "      <td>9ababcab-b944-4c15-a192-a57ee63a5ebd</td>\n",
       "      <td>NaN</td>\n",
       "      <td>NaN</td>\n",
       "      <td>NL32 BCIT 8598 1422 38</td>\n",
       "      <td>NaN</td>\n",
       "      <td>NaN</td>\n",
       "    </tr>\n",
       "    <tr>\n",
       "      <th>2</th>\n",
       "      <td>eb0715a4-d68f-4ac4-a6ab-429afb27cb24</td>\n",
       "      <td>NaN</td>\n",
       "      <td>NaN</td>\n",
       "      <td>NL47 DNIB 3721 8240 06</td>\n",
       "      <td>NaN</td>\n",
       "      <td>NaN</td>\n",
       "    </tr>\n",
       "    <tr>\n",
       "      <th>3</th>\n",
       "      <td>d71c3ace-7083-4c31-a52e-d4ae0afba8f7</td>\n",
       "      <td>NaN</td>\n",
       "      <td>NaN</td>\n",
       "      <td>NL04 RBRB 8108 2396 61</td>\n",
       "      <td>NaN</td>\n",
       "      <td>NaN</td>\n",
       "    </tr>\n",
       "    <tr>\n",
       "      <th>4</th>\n",
       "      <td>1e310847-f7e4-40f8-9d58-2441fc585902</td>\n",
       "      <td>NaN</td>\n",
       "      <td>NaN</td>\n",
       "      <td>NL19 BOFA 7398 1591 18</td>\n",
       "      <td>NaN</td>\n",
       "      <td>NaN</td>\n",
       "    </tr>\n",
       "  </tbody>\n",
       "</table>\n",
       "</div>"
      ],
      "text/plain": [
       "                                   uuid  y_name  y_kvk  \\\n",
       "0  a6ec0d75-f2d3-4965-b626-fca8fe70c286     NaN    NaN   \n",
       "1  9ababcab-b944-4c15-a192-a57ee63a5ebd     NaN    NaN   \n",
       "2  eb0715a4-d68f-4ac4-a6ab-429afb27cb24     NaN    NaN   \n",
       "3  d71c3ace-7083-4c31-a52e-d4ae0afba8f7     NaN    NaN   \n",
       "4  1e310847-f7e4-40f8-9d58-2441fc585902     NaN    NaN   \n",
       "\n",
       "                   y_iban  y_reference  y_total  \n",
       "0  NL80 COBA 0969 0380 25          NaN      NaN  \n",
       "1  NL32 BCIT 8598 1422 38          NaN      NaN  \n",
       "2  NL47 DNIB 3721 8240 06          NaN      NaN  \n",
       "3  NL04 RBRB 8108 2396 61          NaN      NaN  \n",
       "4  NL19 BOFA 7398 1591 18          NaN      NaN  "
      ]
     },
     "execution_count": 9,
     "metadata": {},
     "output_type": "execute_result"
    }
   ],
   "source": [
    "truths_GY.head()"
   ]
  },
  {
   "cell_type": "code",
   "execution_count": 10,
   "metadata": {},
   "outputs": [
    {
     "name": "stdout",
     "output_type": "stream",
     "text": [
      "(47000,)\n",
      "N L32   BMC T 858\t  1422M 38\n"
     ]
    }
   ],
   "source": [
    "train1 = preds_GX1['x_iban']\n",
    "train2 = preds_GX2['x_iban']\n",
    "train3 = preds_GX3['x_iban']\n",
    "train4 = preds_GX4['x_iban']\n",
    "print(train2.shape)\n",
    "print(train2[1])"
   ]
  },
  {
   "cell_type": "code",
   "execution_count": null,
   "metadata": {},
   "outputs": [],
   "source": []
  },
  {
   "cell_type": "code",
   "execution_count": 11,
   "metadata": {},
   "outputs": [
    {
     "name": "stdout",
     "output_type": "stream",
     "text": [
      "(47000,)\n",
      "NL32 BCIT 8598 1422 38\n"
     ]
    }
   ],
   "source": [
    "str_y_train = truths_GY['y_iban']\n",
    "print(str_y_train.shape)\n",
    "print(str_y_train[1])"
   ]
  },
  {
   "cell_type": "code",
   "execution_count": 12,
   "metadata": {},
   "outputs": [
    {
     "name": "stdout",
     "output_type": "stream",
     "text": [
      "padding strings to max length of 26\n",
      "padding strings to max length of 30\n",
      "padding strings to max length of 21\n",
      "padding strings to max length of 26\n",
      "padding strings to max length of 22\n"
     ]
    }
   ],
   "source": [
    "train1 = apad(train1, length=0)\n",
    "train2 = apad(train2, length=0)\n",
    "train3 = apad(train3, length=0)\n",
    "train4 = apad(train4, length=0)\n",
    "str_y_train = apad(str_y_train, length=0)"
   ]
  },
  {
   "cell_type": "code",
   "execution_count": 13,
   "metadata": {},
   "outputs": [
    {
     "name": "stdout",
     "output_type": "stream",
     "text": [
      "NL32 BCIT 8598 1422 38\n"
     ]
    }
   ],
   "source": [
    "print(str_y_train[1])"
   ]
  },
  {
   "cell_type": "code",
   "execution_count": 14,
   "metadata": {
    "colab": {
     "autoexec": {
      "startup": false,
      "wait_interval": 0
     }
    },
    "colab_type": "code",
    "id": "Lv7HCR6ZJAQv"
   },
   "outputs": [],
   "source": [
    "cat_train = np.concatenate(\n",
    "    (train1, \n",
    "     train2, \n",
    "     train3, \n",
    "     train4,\n",
    "     str_y_train) , axis=0)\n",
    "\n",
    "# Create our tokenizer\n",
    "# We will tokenize on character level!\n",
    "# We will NOT remove any characters\n",
    "\n",
    "# CONSIDER:\n",
    "# reducing num_words\n",
    "# reduce padding length (change function to remove whitespace perhaps?)\n",
    "# use filters\n",
    "\n",
    "tokenizer = Tokenizer(num_words=48, char_level=True, filters=None, lower=False)\n",
    "tokenizer.fit_on_texts(cat_train)\n",
    "del cat_train\n"
   ]
  },
  {
   "cell_type": "code",
   "execution_count": 15,
   "metadata": {},
   "outputs": [
    {
     "name": "stdout",
     "output_type": "stream",
     "text": [
      "_NL32 BcITP 8598 142O 38H  _\n",
      "26\n"
     ]
    }
   ],
   "source": [
    "print(\"_\"+train1[1]+\"_\")\n",
    "print(len(train1[1]))"
   ]
  },
  {
   "cell_type": "code",
   "execution_count": 300,
   "metadata": {},
   "outputs": [],
   "source": [
    "m = len(train1)"
   ]
  },
  {
   "cell_type": "code",
   "execution_count": 301,
   "metadata": {},
   "outputs": [
    {
     "name": "stdout",
     "output_type": "stream",
     "text": [
      "(47000, 103, 48)\n",
      "[[0. 0. 1. ... 0. 0. 0.]\n",
      " [0. 0. 0. ... 0. 0. 0.]\n",
      " [0. 0. 0. ... 0. 0. 0.]\n",
      " ...\n",
      " [0. 1. 0. ... 0. 0. 0.]\n",
      " [0. 0. 0. ... 0. 0. 0.]\n",
      " [0. 0. 0. ... 0. 0. 0.]]\n"
     ]
    }
   ],
   "source": [
    "X = []\n",
    "\n",
    "# fold padded IBANs from 4 different sources together into one long string, for all rows in the array\n",
    "# let's onehot the long (128 chars) string while we are iterating anyways\n",
    "for i in range(m):\n",
    "# for i in range(1):\n",
    "    four_ibans = train1[i] + train2[i] + train3[i] + train4[i]\n",
    "\n",
    "#    ###   FIXME FIXME FIXME  ###############################################\n",
    "#     four_ibans = str_y_train[i] + str_y_train[i] + str_y_train[i] + str_y_train[i]  # BIG FAT HACK!\n",
    "#    ###   FIXME FIXME FIXME  ###############################################\n",
    "\n",
    "    onehot_ibans = tokenizer.texts_to_matrix(four_ibans)\n",
    "    X.append(onehot_ibans)   # .flatten()\n",
    "#\n",
    "X_train = np.array(X)\n",
    "print(X_train.shape)\n",
    "print(X_train[1])"
   ]
  },
  {
   "cell_type": "code",
   "execution_count": 19,
   "metadata": {},
   "outputs": [
    {
     "data": {
      "text/plain": [
       "OrderedDict([('X', 13142),\n",
       "             ('N', 304437),\n",
       "             ('L', 261361),\n",
       "             ('8', 271549),\n",
       "             ('0', 263383),\n",
       "             (' ', 1329175),\n",
       "             ('C', 52886),\n",
       "             ('O', 53399),\n",
       "             ('b', 3870),\n",
       "             ('A', 96095),\n",
       "             ('9', 267254),\n",
       "             ('6', 270936),\n",
       "             ('F', 31424),\n",
       "             ('3', 273233),\n",
       "             ('Z', 9689),\n",
       "             ('5', 268413),\n",
       "             ('2', 272345),\n",
       "             ('B', 152112),\n",
       "             ('c', 1635),\n",
       "             ('I', 46839),\n",
       "             ('T', 34834),\n",
       "             ('P', 16122),\n",
       "             ('1', 270692),\n",
       "             ('4', 270924),\n",
       "             ('H', 40265),\n",
       "             ('7', 271253),\n",
       "             ('D', 40507),\n",
       "             ('Q', 9912),\n",
       "             ('R', 41174),\n",
       "             ('j', 518),\n",
       "             ('M', 22170),\n",
       "             ('a', 2616),\n",
       "             ('d', 1331),\n",
       "             ('J', 6740),\n",
       "             ('n', 7420),\n",
       "             ('E', 31492),\n",
       "             ('U', 28712),\n",
       "             ('K', 47188),\n",
       "             ('G', 34891),\n",
       "             ('S', 43652),\n",
       "             ('o', 1595),\n",
       "             ('V', 12905),\n",
       "             ('e', 1114),\n",
       "             ('m', 883),\n",
       "             ('Y', 19306),\n",
       "             ('f', 1118),\n",
       "             ('W', 21986),\n",
       "             ('p', 720),\n",
       "             ('l', 6330),\n",
       "             ('g', 1194),\n",
       "             ('q', 608),\n",
       "             ('h', 1299),\n",
       "             ('r', 1364),\n",
       "             ('y', 811),\n",
       "             ('x', 698),\n",
       "             ('i', 1453),\n",
       "             ('s', 1340),\n",
       "             ('k', 1516),\n",
       "             ('t', 1215),\n",
       "             ('w', 920),\n",
       "             ('u', 997),\n",
       "             ('v', 699),\n",
       "             ('z', 574),\n",
       "             ('\\t', 140765),\n",
       "             ('*', 5259),\n",
       "             ('~', 5125),\n",
       "             ('[', 5203),\n",
       "             ('|', 5332),\n",
       "             ('§', 5241),\n",
       "             (';', 5197),\n",
       "             ('-', 5208),\n",
       "             ('#', 5190),\n",
       "             ('\"', 10360),\n",
       "             (\"'\", 10619),\n",
       "             ('?', 5317),\n",
       "             (']', 5349),\n",
       "             ('`', 5194),\n",
       "             ('>', 5207),\n",
       "             (')', 5273),\n",
       "             ('$', 5191),\n",
       "             ('\\\\', 5271),\n",
       "             ('@', 5199),\n",
       "             ('%', 5207),\n",
       "             ('!', 5126),\n",
       "             (',', 5196),\n",
       "             ('_', 5160),\n",
       "             ('.', 5303),\n",
       "             ('(', 5145),\n",
       "             ('/', 5296),\n",
       "             (':', 5156),\n",
       "             ('{', 5142),\n",
       "             ('^', 5150),\n",
       "             ('+', 5133),\n",
       "             ('<', 5250),\n",
       "             ('&', 5255),\n",
       "             ('±', 5330),\n",
       "             ('=', 5244),\n",
       "             ('}', 5172)])"
      ]
     },
     "execution_count": 19,
     "metadata": {},
     "output_type": "execute_result"
    }
   ],
   "source": [
    "tokenizer.word_counts"
   ]
  },
  {
   "cell_type": "code",
   "execution_count": 16,
   "metadata": {},
   "outputs": [
    {
     "name": "stdout",
     "output_type": "stream",
     "text": [
      "Variable      Type         Data/Info\n",
      "------------------------------------\n",
      "Tokenizer     type         <class 'keras.preprocessing.text.Tokenizer'>\n",
      "apad          function     <function apad at 0x7fe73c916f28>\n",
      "glob          module       <module 'glob' from '/hom<...>y/lib/python3.6/glob.py'>\n",
      "keras         module       <module 'keras' from '/ho<...>kages/keras/__init__.py'>\n",
      "np            module       <module 'numpy' from '/ho<...>kages/numpy/__init__.py'>\n",
      "ortec         module       <module 'ortec' from '/ho<...>ice_classifier/ortec.py'>\n",
      "p             str          123456\n",
      "pad           function     <function pad at 0x7fe7a41ff9d8>\n",
      "pd            module       <module 'pandas' from '/h<...>ages/pandas/__init__.py'>\n",
      "pp            list         n=2\n",
      "preds_GX1     DataFrame                             <...>n[47000 rows x 6 columns]\n",
      "preds_GX2     DataFrame                             <...>n[47000 rows x 6 columns]\n",
      "preds_GX3     DataFrame                             <...>n[47000 rows x 6 columns]\n",
      "preds_GX4     DataFrame                             <...>n[47000 rows x 6 columns]\n",
      "str_y_train   list         n=47000\n",
      "tokenizer     Tokenizer    <keras.preprocessing.text<...>object at 0x7fe73c92ad68>\n",
      "train1        list         n=47000\n",
      "train2        list         n=47000\n",
      "train3        list         n=47000\n",
      "train4        list         n=47000\n",
      "train_dir     str          ./train_G_iban/\n",
      "truths_GY     DataFrame                             <...>n[47000 rows x 6 columns]\n",
      "x             str          1234567\n",
      "xx            list         n=2\n"
     ]
    }
   ],
   "source": [
    "%whos"
   ]
  },
  {
   "cell_type": "code",
   "execution_count": 302,
   "metadata": {},
   "outputs": [
    {
     "name": "stdout",
     "output_type": "stream",
     "text": [
      "<class 'numpy.ndarray'>\n",
      "(47000, 1056)\n",
      "[0. 0. 1. ... 0. 0. 0.]\n"
     ]
    }
   ],
   "source": [
    "# CONSIDER:\n",
    "# not flattening target\n",
    "\n",
    "y = []\n",
    "for i in range(m):\n",
    "    onehot_y = tokenizer.texts_to_matrix(str_y_train[i])\n",
    "    y.append(onehot_y.flatten())\n",
    "#\n",
    "y_train = np.array(y)\n",
    "print(type(y_train))\n",
    "print(y_train.shape)\n",
    "print(y_train[1])"
   ]
  },
  {
   "cell_type": "markdown",
   "metadata": {},
   "source": [
    "## Note\n",
    "we are going to train on four IBANs, without the other fields. Extend this POC later!"
   ]
  },
  {
   "cell_type": "code",
   "execution_count": null,
   "metadata": {},
   "outputs": [],
   "source": []
  },
  {
   "cell_type": "markdown",
   "metadata": {
    "colab_type": "text",
    "id": "82CcOTIgJARD"
   },
   "source": [
    "## Model building"
   ]
  },
  {
   "cell_type": "code",
   "execution_count": 303,
   "metadata": {},
   "outputs": [
    {
     "name": "stdout",
     "output_type": "stream",
     "text": [
      "(103, 48) 4944\n",
      "m= 47000\n",
      "1056\n"
     ]
    }
   ],
   "source": [
    "input_shape = X_train[0].shape\n",
    "input_width = input_shape[0]\n",
    "input_depth = input_shape[1]\n",
    "input_size = input_width * input_depth\n",
    "\n",
    "output_size = y_train.shape[1]\n",
    "\n",
    "print(input_shape, input_size)\n",
    "print(\"m=\", m)\n",
    "print(output_size)"
   ]
  },
  {
   "cell_type": "code",
   "execution_count": 304,
   "metadata": {
    "colab": {
     "autoexec": {
      "startup": false,
      "wait_interval": 0
     }
    },
    "colab_type": "code",
    "id": "JJ977SYzJARD"
   },
   "outputs": [],
   "source": [
    "import keras.models as km # import Sequential\n",
    "import keras.layers as kl # import SimpleRNN, Dense,Activation, Conv1D, MaxPool1D, Flatten\n",
    "import keras.optimizers as ko"
   ]
  },
  {
   "cell_type": "markdown",
   "metadata": {},
   "source": [
    "# no free lunch\n",
    "It is hard to keep the model small enough to fit in memory. I keep getting OOMs in the terminal.\n",
    "Even when Trainable Parameters == 400000.\n",
    "\n",
    "Also: complicated! With all the 2D inputs caused by onehot encoders and long strings."
   ]
  },
  {
   "cell_type": "code",
   "execution_count": 305,
   "metadata": {
    "colab": {
     "autoexec": {
      "startup": false,
      "wait_interval": 0
     },
     "base_uri": "https://localhost:8080/",
     "height": 88,
     "output_extras": [
      {
       "item_id": 1
      }
     ]
    },
    "colab_type": "code",
    "executionInfo": {
     "elapsed": 458,
     "status": "ok",
     "timestamp": 1521013903389,
     "user": {
      "displayName": "rik",
      "photoUrl": "//lh6.googleusercontent.com/-ZGIi-vN4KMU/AAAAAAAAAAI/AAAAAAAAAFk/Ki-nNio6VVM/s50-c-k-no/photo.jpg",
      "userId": "113719912521762461555"
     },
     "user_tz": -60
    },
    "id": "IFzNMcqSJARG",
    "outputId": "cfdf8e76-e9dd-4833-dd00-b886699f1526"
   },
   "outputs": [],
   "source": [
    "%xdel model\n",
    "model = km.Sequential()\n",
    "\n",
    "model.add(kl.Dense(320, name='A', input_shape=input_shape))\n",
    "model.add(kl.Activation('relu', name='a'))\n",
    "\n",
    "model.add(kl.Dense(48, name='B'))\n",
    "model.add(kl.Activation('relu', name='b'))\n",
    "\n",
    "model.add(kl.Flatten(name='F'))\n",
    "model.add(kl.Dropout(rate=.4, name='Fd'))\n",
    "\n",
    "model.add(kl.Dense(64, name='K'))\n",
    "model.add(kl.Activation('relu', name='k'))\n",
    "\n",
    "model.add(kl.Dense(32, name='L'))\n",
    "model.add(kl.Activation('relu', name='l'))\n",
    "\n",
    "model.add(kl.Dense(22, name='N'))\n",
    "model.add(kl.Activation('relu', name='n'))\n",
    "\n",
    "model.add(kl.Dense(output_size, name='O'))\n",
    "model.add(kl.Activation('relu', name='o'))\n"
   ]
  },
  {
   "cell_type": "code",
   "execution_count": 306,
   "metadata": {},
   "outputs": [],
   "source": [
    "# CONSIDER: tweak learning rate"
   ]
  },
  {
   "cell_type": "code",
   "execution_count": 307,
   "metadata": {
    "colab": {
     "autoexec": {
      "startup": false,
      "wait_interval": 0
     },
     "base_uri": "https://localhost:8080/",
     "height": 306,
     "output_extras": [
      {
       "item_id": 1
      }
     ]
    },
    "colab_type": "code",
    "executionInfo": {
     "elapsed": 476,
     "status": "ok",
     "timestamp": 1521013914249,
     "user": {
      "displayName": "rik",
      "photoUrl": "//lh6.googleusercontent.com/-ZGIi-vN4KMU/AAAAAAAAAAI/AAAAAAAAAFk/Ki-nNio6VVM/s50-c-k-no/photo.jpg",
      "userId": "113719912521762461555"
     },
     "user_tz": -60
    },
    "id": "UNYPtr9zJARJ",
    "outputId": "afde0c76-c2b8-44f0-dc80-b5fc954e32ee"
   },
   "outputs": [
    {
     "name": "stdout",
     "output_type": "stream",
     "text": [
      "_________________________________________________________________\n",
      "Layer (type)                 Output Shape              Param #   \n",
      "=================================================================\n",
      "A (Dense)                    (None, 103, 320)          15680     \n",
      "_________________________________________________________________\n",
      "a (Activation)               (None, 103, 320)          0         \n",
      "_________________________________________________________________\n",
      "B (Dense)                    (None, 103, 48)           15408     \n",
      "_________________________________________________________________\n",
      "b (Activation)               (None, 103, 48)           0         \n",
      "_________________________________________________________________\n",
      "F (Flatten)                  (None, 4944)              0         \n",
      "_________________________________________________________________\n",
      "Fd (Dropout)                 (None, 4944)              0         \n",
      "_________________________________________________________________\n",
      "K (Dense)                    (None, 64)                316480    \n",
      "_________________________________________________________________\n",
      "k (Activation)               (None, 64)                0         \n",
      "_________________________________________________________________\n",
      "L (Dense)                    (None, 32)                2080      \n",
      "_________________________________________________________________\n",
      "l (Activation)               (None, 32)                0         \n",
      "_________________________________________________________________\n",
      "N (Dense)                    (None, 22)                726       \n",
      "_________________________________________________________________\n",
      "n (Activation)               (None, 22)                0         \n",
      "_________________________________________________________________\n",
      "O (Dense)                    (None, 1056)              24288     \n",
      "_________________________________________________________________\n",
      "o (Activation)               (None, 1056)              0         \n",
      "=================================================================\n",
      "Total params: 374,662\n",
      "Trainable params: 374,662\n",
      "Non-trainable params: 0\n",
      "_________________________________________________________________\n"
     ]
    }
   ],
   "source": [
    "## sparse_categorical_crossentropy is like categorical crossentropy but without converting targets to one hot\n",
    "model.compile(loss='mse',optimizer=keras.optimizers.adam(lr=.1))   # , metrics=['acc']\n",
    "model.summary()\n"
   ]
  },
  {
   "cell_type": "markdown",
   "metadata": {},
   "source": [
    "```\n",
    "succesful .fit with:\n",
    "68,588 params, bs 32, m=100\n",
    "dito, m=1000\n",
    "dito 85,008 params\n",
    "dito params: 193,248\n",
    "dito m=47k\n",
    "dito bs=64\n",
    "dito 273,264\n",
    "dito bs=128\n",
    "----------\n",
    "Total params: 273,264, m=47k, bs=128, 48 chars in tokenizer (lowercase), input 128x48, output 32x48\n",
    "dito params: 274,320 (1 more layer)\n",
    "dito bs=256\n",
    "```"
   ]
  },
  {
   "cell_type": "code",
   "execution_count": null,
   "metadata": {},
   "outputs": [],
   "source": []
  },
  {
   "cell_type": "code",
   "execution_count": 308,
   "metadata": {
    "colab": {
     "autoexec": {
      "startup": false,
      "wait_interval": 0
     },
     "base_uri": "https://localhost:8080/",
     "height": 51,
     "output_extras": [
      {
       "item_id": 1
      }
     ]
    },
    "colab_type": "code",
    "executionInfo": {
     "elapsed": 3528,
     "status": "ok",
     "timestamp": 1521013972679,
     "user": {
      "displayName": "rik",
      "photoUrl": "//lh6.googleusercontent.com/-ZGIi-vN4KMU/AAAAAAAAAAI/AAAAAAAAAFk/Ki-nNio6VVM/s50-c-k-no/photo.jpg",
      "userId": "113719912521762461555"
     },
     "user_tz": -60
    },
    "id": "KL5eEhsvZ-NW",
    "outputId": "1a4477f7-ab9e-4404-da3a-072d9b2216d6",
    "scrolled": false
   },
   "outputs": [
    {
     "name": "stdout",
     "output_type": "stream",
     "text": [
      "Train on 37600 samples, validate on 9400 samples\n",
      "Epoch 1/1\n",
      "37600/37600 [==============================] - 3s 92us/step - loss: 3.0142 - val_loss: 0.0161\n"
     ]
    }
   ],
   "source": [
    "train_hist = model.fit(x=X_train, y=y_train, batch_size=256, epochs=1, validation_split=.2, verbose=True)\n"
   ]
  },
  {
   "cell_type": "code",
   "execution_count": null,
   "metadata": {
    "colab": {
     "autoexec": {
      "startup": false,
      "wait_interval": 0
     },
     "base_uri": "https://localhost:8080/",
     "height": 36,
     "output_extras": [
      {
       "item_id": 1
      }
     ]
    },
    "colab_type": "code",
    "executionInfo": {
     "elapsed": 628,
     "status": "ok",
     "timestamp": 1520878266967,
     "user": {
      "displayName": "rik",
      "photoUrl": "//lh6.googleusercontent.com/-ZGIi-vN4KMU/AAAAAAAAAAI/AAAAAAAAAFk/Ki-nNio6VVM/s50-c-k-no/photo.jpg",
      "userId": "113719912521762461555"
     },
     "user_tz": -60
    },
    "id": "SsUO4K_NaBq5",
    "outputId": "e95ca51a-c8de-430a-aa2f-1e630a478e7c"
   },
   "outputs": [],
   "source": []
  },
  {
   "cell_type": "code",
   "execution_count": 72,
   "metadata": {
    "colab": {
     "autoexec": {
      "startup": false,
      "wait_interval": 0
     }
    },
    "colab_type": "code",
    "id": "pVtUhpFFJAR-"
   },
   "outputs": [],
   "source": [
    "model.save('IBAN_stacker_226k.h5')"
   ]
  },
  {
   "cell_type": "code",
   "execution_count": 309,
   "metadata": {
    "colab": {
     "autoexec": {
      "startup": false,
      "wait_interval": 0
     }
    },
    "colab_type": "code",
    "id": "ru8U0J-BJASA"
   },
   "outputs": [],
   "source": [
    "i = 0"
   ]
  },
  {
   "cell_type": "code",
   "execution_count": 321,
   "metadata": {
    "colab": {
     "autoexec": {
      "startup": false,
      "wait_interval": 0
     }
    },
    "colab_type": "code",
    "id": "ru8U0J-BJASA"
   },
   "outputs": [
    {
     "name": "stdout",
     "output_type": "stream",
     "text": [
      "000000000000000000000000000000000000000000000000000000000000000000000000000000000000000000000000000000000000000000000000000000000000000000000000000000000000000000000000000000000000000000000000000000000000000000000000000000000000000000000000000000000000000000000000000000000000000000000000000000000000000000000000000000000000000000000000000000000000000000000000000000000000000000000000000000000000000000000000000000000000000000000000000000000000000000000000000000000000000000000000000000000000000000000000000000000000000000000000000000000000000000000000000000000000000000000000000000000000000000000000000000000000000000000000000000000000000000000000000000000000000000000000000000000000000000000000000000000000000000000000000000000000000000000000000000000000000000000000000000000000000000000000000000000000000000000000000000000000000000000000000000000000000000000000000000000000000000000000000000000000000000000000010000000000000000000000000000000000000000000000000000000000000000000000000000000000000000000000000000000000000000000000000000000000000000000000\n",
      "1\n",
      "001000000000000000000000000000000000000000000000000000000000010000000000000000000000000000000000000010000000000000000000000000000000000000000000000000100000000000000000000000000000000000000000010000000000000000000000000000000000000000000000000000000000000010000000000000000000000000000000000000000000000000000000001000000000000000000000000000000000001000000000000000000000000000000000000000000000000010000000000000000000000000000000010000000000000000000000000000000000000000000000000010000000000000000000000000000000000000000000000010000000000000000000000000000000000000000000000000010000000000000000000000000000000000000000000000001000000000000000000000000000000000000000010000000000000000000000000000000000000000000000000100000000000000000000000000000000000000000000000000010000000000000000000000000000000000000000000010000000000000000000000000000000000000000000000000000010000000000000000000000000000000000000010000000000000000000000000000000000000000000000000000100000000000000000000000000000000000000000000000000001000000000000000000000000000000000000\n",
      "22\n",
      "['NL27 ATBA 2264 3625 79']\n"
     ]
    }
   ],
   "source": [
    "i += 1\n",
    "iban_x = X_train[i:i+1]\n",
    "iban_true = y_train[i:i+1]\n",
    "\n",
    "iban_pred = model.predict(x=iban_x)\n",
    "\n",
    "pred_str = \"\"\n",
    "pred_sum = 0\n",
    "for f in iban_pred.flatten():\n",
    "    pred_str += str(int(f))\n",
    "    pred_sum += int(f)\n",
    "true_str = \"\"\n",
    "true_sum = 0\n",
    "for f in iban_true.flatten():\n",
    "    true_str += str(int(f))\n",
    "    true_sum += int(f)\n",
    "#\n",
    "\n",
    "print(pred_str)\n",
    "print(pred_sum)\n",
    "print(true_str)\n",
    "print(true_sum)\n",
    "print(str_y_train[i:i+1])\n"
   ]
  },
  {
   "cell_type": "code",
   "execution_count": null,
   "metadata": {},
   "outputs": [],
   "source": []
  },
  {
   "cell_type": "code",
   "execution_count": null,
   "metadata": {},
   "outputs": [],
   "source": []
  }
 ],
 "metadata": {
  "colab": {
   "collapsed_sections": [],
   "default_view": {},
   "name": "Jannes Baseline Ortec.ipynb",
   "provenance": [
    {
     "file_id": "1wjtiXpxRkuN5V57GiK_RSPxy84cFbERO",
     "timestamp": 1520877467293
    }
   ],
   "toc_visible": true,
   "version": "0.3.2",
   "views": {}
  },
  "kernelspec": {
   "display_name": "Python 3",
   "language": "python",
   "name": "python3"
  },
  "language_info": {
   "codemirror_mode": {
    "name": "ipython",
    "version": 3
   },
   "file_extension": ".py",
   "mimetype": "text/x-python",
   "name": "python",
   "nbconvert_exporter": "python",
   "pygments_lexer": "ipython3",
   "version": "3.6.4"
  }
 },
 "nbformat": 4,
 "nbformat_minor": 1
}
